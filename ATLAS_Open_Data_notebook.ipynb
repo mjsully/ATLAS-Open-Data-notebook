{
  "nbformat": 4,
  "nbformat_minor": 0,
  "metadata": {
    "colab": {
      "name": "ATLAS Open Data notebook.ipynb",
      "version": "0.3.2",
      "provenance": [],
      "collapsed_sections": [],
      "include_colab_link": true
    },
    "kernelspec": {
      "name": "python3",
      "display_name": "Python 3"
    }
  },
  "cells": [
    {
      "cell_type": "markdown",
      "metadata": {
        "id": "view-in-github",
        "colab_type": "text"
      },
      "source": [
        "<a href=\"https://colab.research.google.com/github/mjsully/ATLAS-Open-Data-notebook/blob/master/ATLAS_Open_Data_notebook.ipynb\" target=\"_parent\"><img src=\"https://colab.research.google.com/assets/colab-badge.svg\" alt=\"Open In Colab\"/></a>"
      ]
    },
    {
      "cell_type": "markdown",
      "metadata": {
        "id": "amo4GBQrfHvA",
        "colab_type": "text"
      },
      "source": [
        "### Simple ATLAS Open Data analysis, comparing the production of a top-anti-top pair from either gluon-gluon fusion, or from the decay of a BSM Z'."
      ]
    },
    {
      "cell_type": "markdown",
      "metadata": {
        "id": "FarHnWfSAEzl",
        "colab_type": "text"
      },
      "source": [
        "#### The following code segments set up the rest of the code."
      ]
    },
    {
      "cell_type": "code",
      "metadata": {
        "id": "lsBXDOjzfOUL",
        "colab_type": "code",
        "colab": {}
      },
      "source": [
        "import pandas as pd\n",
        "import matplotlib.pyplot as plt\n",
        "import numpy as np\n",
        "import io"
      ],
      "execution_count": 0,
      "outputs": []
    },
    {
      "cell_type": "code",
      "metadata": {
        "id": "LrB_uKwFse3y",
        "colab_type": "code",
        "colab": {}
      },
      "source": [
        "def applyselections(df):\n",
        "  \n",
        "  # These are your selections. They should be written in the form: \"(df.YOUR-VARIABLE OPERATOR < VALUE)\", where the operator is >, >=, ==, <= or <.\n",
        "  temp_df = df[ (df.jet_n > 3) & ((df.trigE == 1) | (df.trigM == 1)) & (df.lep_n == 1) & (df.lep_trigMatched == 1)]\n",
        "  return temp_df"
      ],
      "execution_count": 0,
      "outputs": []
    },
    {
      "cell_type": "code",
      "metadata": {
        "id": "HtPG5G1v0vqt",
        "colab_type": "code",
        "colab": {}
      },
      "source": [
        "def makeplots(plot_variables, plot_bins, zdf, ttdf):\n",
        "  \n",
        "  for index, variable in enumerate(plot_variables):\n",
        "    \n",
        "    plt.figure(index)\n",
        "    plt.hist(zdf[variable],color='r',alpha=0.3,label='Z',log=True,bins = plot_bins[index])\n",
        "    plt.hist(ttdf[variable],color='b',alpha=0.3,label='SM tt',log=True,bins = plot_bins[index])\n",
        "    plt.legend(loc='best')\n",
        "    plt.xlabel(variable)\n",
        "    plt.ylabel('Events')"
      ],
      "execution_count": 0,
      "outputs": []
    },
    {
      "cell_type": "code",
      "metadata": {
        "id": "1wMVUEDq4CqL",
        "colab_type": "code",
        "colab": {}
      },
      "source": [
        "def calc_eff_pur(nsig, nsig_init, nbkg, nbkg_init):\n",
        "  \n",
        "  print('------')\n",
        "  purity = nsig / (nsig + nbkg)\n",
        "  efficiency = nsig / nsig_init\n",
        "  print('Signal events: {}'.format( nsig ))\n",
        "  print('Background events: {}'.format( nbkg ))\n",
        "  print('Purity: {}'.format( round(purity, 2) ))\n",
        "  print('Efficiency: {}'.format( round( efficiency, 2) ))\n",
        "  print('------')      "
      ],
      "execution_count": 0,
      "outputs": []
    },
    {
      "cell_type": "markdown",
      "metadata": {
        "id": "vMtqgvAT6sfn",
        "colab_type": "text"
      },
      "source": [
        "#### We first must download the two files from Liverpool."
      ]
    },
    {
      "cell_type": "code",
      "metadata": {
        "id": "jfCJphh65NEx",
        "colab_type": "code",
        "colab": {}
      },
      "source": [
        "!wget http://hep.ph.liv.ac.uk/~msullivan/mc_110902.ZPrime750.csv\n",
        "!wget http://hep.ph.liv.ac.uk/~msullivan/mc_117050.ttbar_lep.csv"
      ],
      "execution_count": 0,
      "outputs": []
    },
    {
      "cell_type": "markdown",
      "metadata": {
        "id": "LfHCpQz76woP",
        "colab_type": "text"
      },
      "source": [
        "#### The following four lines load the Z' and SM tt sample into Pandas dataframes, and evaluate the number of events before selections."
      ]
    },
    {
      "cell_type": "code",
      "metadata": {
        "id": "bn4j34wwjV25",
        "colab_type": "code",
        "colab": {}
      },
      "source": [
        "zprime_df = pd.read_csv('mc_110902.ZPrime750.csv')\n",
        "ttbar_df  = pd.read_csv('mc_117050.ttbar_lep.csv')\n",
        "nsig_init = len(zprime_df.index)\n",
        "nbkg_init = len(ttbar_df.index)"
      ],
      "execution_count": 0,
      "outputs": []
    },
    {
      "cell_type": "markdown",
      "metadata": {
        "id": "tnvZMiLqrXCL",
        "colab_type": "text"
      },
      "source": [
        "#### The following lines will apply selections to your dataframes and evaluate the number of events passing your selections."
      ]
    },
    {
      "cell_type": "code",
      "metadata": {
        "id": "7MWRp1pLkcjw",
        "colab_type": "code",
        "colab": {}
      },
      "source": [
        "zprime_df_selected  = applyselections(zprime_df)\n",
        "ttbar_df_selected = applyselections(ttbar_df)\n",
        "nsig = len(zprime_df_selected.index)\n",
        "nbkg = len(ttbar_df_selected.index)"
      ],
      "execution_count": 0,
      "outputs": []
    },
    {
      "cell_type": "markdown",
      "metadata": {
        "id": "-_DEgINn7R8A",
        "colab_type": "text"
      },
      "source": [
        "#### Finally, we draw the variable plots and calculate the efficiency and purity!"
      ]
    },
    {
      "cell_type": "code",
      "metadata": {
        "id": "ZrLMLIrZmh_x",
        "colab_type": "code",
        "colab": {}
      },
      "source": [
        "plot_variables = ['met_et', 'jet_pt', 'lep_pt']\n",
        "plot_bins      = [10, 10, 10]\n",
        "makeplots(plot_variables, plot_bins, zprime_df_selected, ttbar_df_selected)\n",
        "calc_eff_pur(nsig, nsig_init, nbkg, nbkg_init)"
      ],
      "execution_count": 0,
      "outputs": []
    }
  ]
}